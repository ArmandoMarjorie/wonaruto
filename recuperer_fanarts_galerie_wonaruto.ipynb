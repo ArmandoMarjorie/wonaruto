{
  "nbformat": 4,
  "nbformat_minor": 0,
  "metadata": {
    "colab": {
      "provenance": []
    },
    "kernelspec": {
      "name": "python3",
      "display_name": "Python 3"
    },
    "language_info": {
      "name": "python"
    }
  },
  "cells": [
    {
      "cell_type": "markdown",
      "source": [
        "# Télécharger tous les fanarts d'une galerie wonaruto dans un dossier dans votre Drive\n",
        "\n",
        "!! Cela ne permet pas de récupérer les fanarts que l'on a supprimé !!\n",
        "\n",
        "Ce programme permet uniquement de récupérer les fanarts d'une galerie. Si vous avez supprimé des fanarts, et que vous voulez les récupérer également, préférez plutôt le programme : \"recuperer_fanarts_wonaruto.ipynb\". Attention, il est beaucoup plus long à s'exécuter.\n",
        "\n",
        "Pour exécuter le code, modifier les cellules où \"/!\\ Cellule modifiable\" apparaît au dessus (pour écrire l'URL de votre galerie, et le nom du dossier où vous voulez télécharger les fanarts). Si le nom du dossier n'existe pas dans votre drive, le dossier sera créé.\n",
        "\n",
        "Ne touchez à rien d'autre :) !\n",
        "\n",
        "Vous pouvez ensuite lancer le programme en cliquant sur l'onglet \"Exécution > Tout exécuter\". Il faudra alors donner l'autorisation d'utiliser drive.\n",
        "\n",
        "Laisser l'onglet ouvert !!\n",
        "\n",
        "============================================================================"
      ],
      "metadata": {
        "id": "X7-JSZJQvkEN"
      }
    },
    {
      "cell_type": "markdown",
      "source": [
        "# Cellules à modifier\n",
        "\n",
        "Veuillez modifier toutes les cellules suivantes avec vos infos"
      ],
      "metadata": {
        "id": "mEQr03z9y8o-"
      }
    },
    {
      "cell_type": "markdown",
      "source": [
        "/!\\ Cellule modifiable\n",
        "\n",
        "Mettre le lien de votre galerie wonaruto ici, entre les guillemets."
      ],
      "metadata": {
        "id": "on1ISkZKw2o5"
      }
    },
    {
      "cell_type": "code",
      "source": [
        "URL_galerie = \"http://www.wonaruto.com/fanarts/galerie/21555/Rukia-Jericho/\""
      ],
      "metadata": {
        "id": "VlnDIlQCcZwn"
      },
      "execution_count": 35,
      "outputs": []
    },
    {
      "cell_type": "markdown",
      "source": [
        "/!\\ Cellule modifiable\n",
        "\n",
        "On va nommer ici notre dossier où l'on veut que tous nos fanarts se trouvent. Le dossier n'a pas besoin d'être créé en amont."
      ],
      "metadata": {
        "id": "rZP8VqeixJol"
      }
    },
    {
      "cell_type": "code",
      "source": [
        "folder_name = \"ma_galerie_wonaruto\""
      ],
      "metadata": {
        "id": "lnv74Y2Nck1X"
      },
      "execution_count": 36,
      "outputs": []
    },
    {
      "cell_type": "markdown",
      "source": [
        "# Code\n",
        "\n",
        "Ne touchez à rien d'autre à partir d'ici :) ! Vous pouvez maintenant exécuter le programme en cliquant sur \"Exécution > Tout exécuter\"\n",
        "\n",
        "============================================================================"
      ],
      "metadata": {
        "id": "kNCNWWu7z0Ir"
      }
    },
    {
      "cell_type": "markdown",
      "source": [
        "Installation des frameworks nécessaires pour la suite"
      ],
      "metadata": {
        "id": "7oncDh4Hwxyo"
      }
    },
    {
      "cell_type": "code",
      "source": [
        "!pip install bs4\n",
        "!pip install requests"
      ],
      "metadata": {
        "id": "XXUx5SqqcWgL"
      },
      "execution_count": null,
      "outputs": []
    },
    {
      "cell_type": "markdown",
      "source": [
        "Import des frameworks nécessaires pour pouvoir les utiliser"
      ],
      "metadata": {
        "id": "xoO5JUFKw1YR"
      }
    },
    {
      "cell_type": "code",
      "source": [
        "from bs4 import BeautifulSoup\n",
        "import requests\n",
        "from google.colab import drive"
      ],
      "metadata": {
        "id": "QEJllsFccXk-"
      },
      "execution_count": 38,
      "outputs": []
    },
    {
      "cell_type": "markdown",
      "source": [
        "On va créer le dossier dans drive. Il faut pour cela donner l'autorisation d'utiliser drive lorsqu'on execute la cellule suivante."
      ],
      "metadata": {
        "id": "9PCCFQzBxNUW"
      }
    },
    {
      "cell_type": "code",
      "source": [
        "drive.mount('/content/drive/')\n",
        "path_name = \"drive/MyDrive/\" + folder_name + \"/\"\n",
        "!mkdir {path_name}"
      ],
      "metadata": {
        "id": "D6Cdl1Drcqzk"
      },
      "execution_count": null,
      "outputs": []
    },
    {
      "cell_type": "markdown",
      "source": [
        "Création des variables..."
      ],
      "metadata": {
        "id": "oFJ63tT3xQKW"
      }
    },
    {
      "cell_type": "code",
      "source": [
        "fanarts_links = []\n",
        "max_page = 1\n",
        "headers = {\n",
        "    'Access-Control-Allow-Origin': '*',\n",
        "    'Access-Control-Allow-Methods': 'GET',\n",
        "    'Access-Control-Allow-Headers': 'Content-Type',\n",
        "    'Access-Control-Max-Age': '3600',\n",
        "    'User-Agent': 'Mozilla/5.0 (X11; Ubuntu; Linux x86_64; rv:52.0) Gecko/20100101 Firefox/52.0'\n",
        "    }"
      ],
      "metadata": {
        "id": "gSNJr_RNqtrR"
      },
      "execution_count": 40,
      "outputs": []
    },
    {
      "cell_type": "markdown",
      "source": [
        "Récupère le nombre de pages de la galerie"
      ],
      "metadata": {
        "id": "aNFu8H7hrHu6"
      }
    },
    {
      "cell_type": "code",
      "source": [
        "req = requests.get(URL_galerie, headers)\n",
        "soup = BeautifulSoup(req.content, 'html.parser')\n",
        "nb_pages_div = soup.find(\"div\", {\"id\": \"pages_comment\"}).find_all(\"a\")\n",
        "\n",
        "if len(nb_pages_div) >= 2:\n",
        "  max_page = int(nb_pages_div[-2].get_text())\n",
        "\n",
        "print(\"Il y a \" + str(max_page) + \" pages dans la galerie\")"
      ],
      "metadata": {
        "id": "R_0aXTcdpc2F"
      },
      "execution_count": null,
      "outputs": []
    },
    {
      "cell_type": "markdown",
      "source": [
        "Récupère tous les liens de la galerie"
      ],
      "metadata": {
        "id": "xXnqR9XTsO83"
      }
    },
    {
      "cell_type": "code",
      "source": [
        "for num_page in range(1,max_page+1):\n",
        "  URL_galerie_courant = URL_galerie + str(num_page) + \"/\"\n",
        "\n",
        "  req = requests.get(URL_galerie_courant, headers)\n",
        "  soup = BeautifulSoup(req.content, 'html.parser')\n",
        "\n",
        "  all_arts = soup.find_all(\"div\", {\"class\": \"image_galerie\"})\n",
        "\n",
        "  for i in range(len(all_arts)):\n",
        "    fanart_link = all_arts[i].find('a')\n",
        "    if fanart_link != None:\n",
        "      fanart_link = fanart_link['href']\n",
        "      if len(fanart_link) >= 4 and fanart_link[:4] != \"http\":\n",
        "        fanart_link = \"http://www.wonaruto.com/\" + fanart_link\n",
        "      fanarts_links.append(fanart_link)\n",
        "\n",
        "\n",
        "print(\"Il y a \" + str(len(fanarts_links))+ \" fanarts dans la galerie\")"
      ],
      "metadata": {
        "id": "k6kLyTLHctQ3"
      },
      "execution_count": null,
      "outputs": []
    },
    {
      "cell_type": "markdown",
      "source": [
        "Télécharge tous les fanarts de la galerie"
      ],
      "metadata": {
        "id": "noK0yqhQsTJs"
      }
    },
    {
      "cell_type": "code",
      "source": [
        "num_fanart = 0\n",
        "for URL in fanarts_links:\n",
        "  num_fanart += 1\n",
        "  print(\"processing le fanart \"+ str(num_fanart) + \" de la galerie...\")\n",
        "\n",
        "  req = requests.get(URL, headers)\n",
        "  soup = BeautifulSoup(req.content, 'html.parser')\n",
        "\n",
        "  table = soup.find_all('table')\n",
        "  if len(table) >= 1:\n",
        "    img = table[0].find('img')\n",
        "    if img != None:\n",
        "      fanart = img['src']\n",
        "\n",
        "      if len(fanart) >= 4 and fanart[:4] != \"http\":\n",
        "        fanart = \"http://www.wonaruto.com/\" + img['src']\n",
        "\n",
        "      !wget -P {path_name} {fanart}"
      ],
      "metadata": {
        "id": "4KRi9dyLsXIm"
      },
      "execution_count": null,
      "outputs": []
    }
  ]
}
