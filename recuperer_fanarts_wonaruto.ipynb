{
  "nbformat": 4,
  "nbformat_minor": 0,
  "metadata": {
    "colab": {
      "provenance": []
    },
    "kernelspec": {
      "name": "python3",
      "display_name": "Python 3"
    },
    "language_info": {
      "name": "python"
    }
  },
  "cells": [
    {
      "cell_type": "markdown",
      "source": [
        "# Télécharger tous nos fanarts, y compris ceux que l'on a supprimés, dans un dossier dans notre Drive\n",
        "\n",
        "L'idée est de parcourir tous les fanarts du site, un par un, et de télécharger ceux dont le pseudo correspond aux pseudos que l'on veut.\n",
        "\n",
        "Cela prend du temps (je n'ai pas implémenté de programmation parallèle), et est utile uniquement si l'on veut récupérer des fanarts supprimés. Si vous n'avez pas supprimé de fanarts, préférez plutôt le programme : \"recuperer_fanarts_galerie_wonaruto.ipynb\". Celui-ci télécharge les fanarts d'une galerie donnée, et est donc beaucoup plus rapide.\n",
        "\n",
        "Pour exécuter le code, modifier les cellules où \"/!\\ Cellule modifiable\" apparaît au dessus (par exemple pour écrire votre pseudo, le nom du dossier où vous voulez télécharger les fanarts, etc). Ne touchez à rien d'autre :) ! Vous pouvez ensuite lancer le programme en cliquant sur l'onglet \"Exécution > Tout exécuter\".\n",
        "\n",
        "Laisser l'onglet ouvert !!\n",
        "\n",
        "============================================================================"
      ],
      "metadata": {
        "id": "jGGWFrCDMTRZ"
      }
    },
    {
      "cell_type": "markdown",
      "source": [
        "# Cellules à modifier\n",
        "\n",
        "Veuillez modifier toutes les cellules suivantes avec vos infos"
      ],
      "metadata": {
        "id": "1UaMCpQkDoyW"
      }
    },
    {
      "cell_type": "markdown",
      "source": [
        "/!\\ Cellule modifiable\n",
        "\n",
        "Mettre vos pseudos wonaruto ici. On peut rajouter des pseudos en les séparant par des virgules et en les encadrants par des guillemets. Cela est utile si vous avez créé plusieurs compte. Sinon, laisser un seul pseudo, par exemple:\n",
        "\n",
        "pseudos = [\"Serafina\"]"
      ],
      "metadata": {
        "id": "NgRFC4EW6ubZ"
      }
    },
    {
      "cell_type": "code",
      "source": [
        "pseudos = [\"Rukia Jericho\", \"rukia du 13\"]"
      ],
      "metadata": {
        "id": "8TBn9zBB6rmE"
      },
      "execution_count": null,
      "outputs": []
    },
    {
      "cell_type": "markdown",
      "source": [
        "/!\\ Cellule modifiable\n",
        "\n",
        "On va partir du fanart numéro 1. Changer le numéro pour partir d'un autre fanart."
      ],
      "metadata": {
        "id": "Ep-Hi5U76rVo"
      }
    },
    {
      "cell_type": "code",
      "source": [
        "num_min = 1"
      ],
      "metadata": {
        "id": "R6u78Lxg7bXu"
      },
      "execution_count": null,
      "outputs": []
    },
    {
      "cell_type": "markdown",
      "source": [
        "/!\\ Cellule modifiable\n",
        "\n",
        "On va aller jusqu'au dernier fanart posté à ce jour (08/12/2024). Changer le numéro pour arrêter avant."
      ],
      "metadata": {
        "id": "3M-eeI9_7ckK"
      }
    },
    {
      "cell_type": "code",
      "source": [
        "num_max = 84116"
      ],
      "metadata": {
        "id": "aPn-Ss9V7b8q"
      },
      "execution_count": null,
      "outputs": []
    },
    {
      "cell_type": "markdown",
      "source": [
        "/!\\ Cellule modifiable\n",
        "\n",
        "On va nommer ici notre dossier où l'on veut que tous nos fanarts se trouvent."
      ],
      "metadata": {
        "id": "R70WtsOkLnlj"
      }
    },
    {
      "cell_type": "code",
      "source": [
        "folder_name = \"tous_mes_fanarts_wonaruto\""
      ],
      "metadata": {
        "id": "utCA_FYuLn7h"
      },
      "execution_count": null,
      "outputs": []
    },
    {
      "cell_type": "markdown",
      "source": [
        "# Code\n",
        "\n",
        "Ne touchez à rien d'autre à partir d'ici :) ! Vous pouvez maintenant exécuter le programme en cliquant sur \"Exécution > Tout exécuter\"\n",
        "\n",
        "============================================================================"
      ],
      "metadata": {
        "id": "EgM4Ai1aDusE"
      }
    },
    {
      "cell_type": "markdown",
      "source": [
        "Installation des frameworks nécessaires pour la suite"
      ],
      "metadata": {
        "id": "hiKkTC8_K_C8"
      }
    },
    {
      "cell_type": "code",
      "source": [
        "!pip install bs4\n",
        "!pip install requests"
      ],
      "metadata": {
        "id": "UhOrVOM98Tef"
      },
      "execution_count": null,
      "outputs": []
    },
    {
      "cell_type": "markdown",
      "source": [
        "Import des frameworks nécessaires pour pouvoir les utiliser"
      ],
      "metadata": {
        "id": "o-LVND8dLGTl"
      }
    },
    {
      "cell_type": "code",
      "execution_count": null,
      "metadata": {
        "id": "T_mqhUzC6I9J"
      },
      "outputs": [],
      "source": [
        "from bs4 import BeautifulSoup\n",
        "import requests\n",
        "from google.colab import drive"
      ]
    },
    {
      "cell_type": "markdown",
      "source": [
        "On va créer le dossier dans drive. Il faut pour cela donner l'autorisation d'utiliser drive lorsqu'on execute la cellule suivante."
      ],
      "metadata": {
        "id": "RdnkK9or7byV"
      }
    },
    {
      "cell_type": "code",
      "source": [
        "drive.mount('/content/drive/')\n",
        "path_name = \"drive/MyDrive/\" + folder_name + \"/\"\n",
        "!mkdir {path_name}"
      ],
      "metadata": {
        "id": "Yj5b1xL89ge5"
      },
      "execution_count": null,
      "outputs": []
    },
    {
      "cell_type": "markdown",
      "source": [
        "Voici le code pour récupérer tous les fanarts selon le(s) pseudo(s) que l'ont a spécifié plus haut."
      ],
      "metadata": {
        "id": "6ORPc_7T97RL"
      }
    },
    {
      "cell_type": "code",
      "source": [
        "URL_fanart_prefixe = \"http://www.wonaruto.com/fanarts/view/\"\n",
        "headers = {\n",
        "    'Access-Control-Allow-Origin': '*',\n",
        "    'Access-Control-Allow-Methods': 'GET',\n",
        "    'Access-Control-Allow-Headers': 'Content-Type',\n",
        "    'Access-Control-Max-Age': '3600',\n",
        "    'User-Agent': 'Mozilla/5.0 (X11; Ubuntu; Linux x86_64; rv:52.0) Gecko/20100101 Firefox/52.0'\n",
        "    }\n",
        "\n",
        "for num_fanart in range (num_min,num_max+1):\n",
        "    print(\"processing le fanart \"+ str(num_fanart) + \" du site...\")\n",
        "    URL = URL_fanart_prefixe + str(num_fanart)\n",
        "\n",
        "    req = requests.get(URL, headers)\n",
        "    soup = BeautifulSoup(req.content, 'html.parser')\n",
        "    fanart_author = \"\"\n",
        "\n",
        "    table = soup.find_all('table')\n",
        "    if len(table) >= 2:\n",
        "        fanart_author_link = table[1].find('a')\n",
        "        if fanart_author_link != None:\n",
        "            fanart_author = fanart_author_link.get_text()\n",
        "\n",
        "            if fanart_author in pseudos:\n",
        "                img = table[0].find('img')\n",
        "                if img != None:\n",
        "                    fanart = img['src']\n",
        "\n",
        "                    if len(fanart) >= 4 and fanart[:4] != \"http\":\n",
        "                        fanart = \"http://www.wonaruto.com/\" + img['src']\n",
        "\n",
        "                    !wget -P {path_name} {fanart}"
      ],
      "metadata": {
        "id": "hf_b9J1r97pP"
      },
      "execution_count": null,
      "outputs": []
    }
  ]
}
