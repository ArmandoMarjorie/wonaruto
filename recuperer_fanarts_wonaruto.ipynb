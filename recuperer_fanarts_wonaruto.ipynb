{
  "nbformat": 4,
  "nbformat_minor": 0,
  "metadata": {
    "colab": {
      "provenance": []
    },
    "kernelspec": {
      "name": "python3",
      "display_name": "Python 3"
    },
    "language_info": {
      "name": "python"
    }
  },
  "cells": [
    {
      "cell_type": "markdown",
      "source": [
        "# Télécharger tous nos fanarts, y compris ceux que l'on a supprimés, dans un dossier dans notre Drive\n",
        "\n",
        "J'ai écrit un script parcourrant tous les fanarts du site wonaruto, un par un, afin de créer un fichier où chaque artiste est lié à tous les URLs de ses fanarts postés (même ceux qu'il a supprimé).\n",
        "\n",
        "Ce fichier est utile pour pouvoir télécharger bien plus rapidemment les fanarts (plus la peine de parcourir tous les fanarts du site !).\n",
        "\n",
        "Si vous voulez télécharger uniquement les fanarts que vous n'avez pas supprimé, préférez plutôt le programme : \"recuperer_fanarts_galerie_wonaruto.ipynb\". Celui-ci télécharge les fanarts d'une galerie donnée.\n",
        "\n",
        "Pour exécuter le code, modifier les cellules où \"/!\\ Cellule modifiable\" apparaît au dessus (notamment pour écrire votre ou vos pseudo(s), le nom du dossier où vous voulez télécharger les fanarts). Ne touchez à rien d'autre :) !\n",
        "\n",
        "Vous pouvez ensuite lancer le programme en cliquant sur l'onglet \"Exécution > Tout exécuter\".\n",
        "\n",
        "Laisser l'onglet ouvert pendant l'exécution du programme !!\n",
        "\n",
        "============================================================================"
      ],
      "metadata": {
        "id": "KjJTfLjNGF2K"
      }
    },
    {
      "cell_type": "markdown",
      "source": [
        "# Cellules à modifier\n",
        "\n",
        "Veuillez modifier toutes les cellules suivantes avec vos infos (les cellules correspondent aux endroits où il y a du code)"
      ],
      "metadata": {
        "id": "jvq6qZ5JHPMP"
      }
    },
    {
      "cell_type": "markdown",
      "source": [
        "/!\\ Cellule modifiable\n",
        "\n",
        "Mettre vos pseudos wonaruto ici. On peut rajouter des pseudos en les séparant par des virgules et en les encadrants par des guillemets. Cela est utile si vous avez créé plusieurs compte. Sinon, laisser un seul pseudo, par exemple:\n",
        "\n",
        "pseudos = [\"Serafina\"] (ne pas modifier ici, mais bien dans la cellule ci-dessous)"
      ],
      "metadata": {
        "id": "uSh-xmkGHTTX"
      }
    },
    {
      "cell_type": "code",
      "source": [
        "pseudos = [\"Rukia Jericho\", \"rukia du 13\"]"
      ],
      "metadata": {
        "id": "RmQdDASwHOp_"
      },
      "execution_count": 10,
      "outputs": []
    },
    {
      "cell_type": "markdown",
      "source": [
        "/!\\ Cellule modifiable\n",
        "\n",
        "Nommer ici le dossier où vous voulez que tous les fanarts se trouvent (pas besoin de le créer en amont : s'il n'existe pas sur votre Drive, il sera créé dedans)."
      ],
      "metadata": {
        "id": "g-Au5DXnHm-C"
      }
    },
    {
      "cell_type": "code",
      "execution_count": 11,
      "metadata": {
        "id": "SV7tzfM7F8XK"
      },
      "outputs": [],
      "source": [
        "folder_name = \"mes_fanarts_wonaruto\""
      ]
    },
    {
      "cell_type": "markdown",
      "source": [
        "# Code\n",
        "\n",
        "Ne touchez à rien d'autre à partir d'ici :) ! Vous pouvez maintenant exécuter le programme en cliquant sur \"Exécution > Tout exécuter\"\n",
        "\n",
        "============================================================================"
      ],
      "metadata": {
        "id": "BoxPC-spHyQ5"
      }
    },
    {
      "cell_type": "code",
      "source": [
        "!wget \"https://raw.githubusercontent.com/ArmandoMarjorie/wonaruto/refs/heads/main/artistes_url_img.txt\""
      ],
      "metadata": {
        "id": "3Tms51FJIC-Y"
      },
      "execution_count": null,
      "outputs": []
    },
    {
      "cell_type": "code",
      "source": [
        "from google.colab import drive\n",
        "drive.mount('/content/drive/')\n",
        "path_name = \"drive/MyDrive/\" + folder_name + \"/\"\n",
        "!mkdir {path_name}"
      ],
      "metadata": {
        "id": "-d4u9oQbH6g-"
      },
      "execution_count": null,
      "outputs": []
    },
    {
      "cell_type": "code",
      "source": [
        "nb_stop = len(pseudos)\n",
        "nb_fanarts_downloaded = 0\n",
        "\n",
        "with open(\"artistes_url_img.txt\", \"r\") as f:\n",
        "  for line in f:\n",
        "    #pas besoin de parcourir tout le fichier si on a fini\n",
        "    if nb_stop <= 0:\n",
        "      break\n",
        "    tmp = line.split(\"\\t\")\n",
        "    if len(tmp) >= 2:\n",
        "      auteur = tmp[0]\n",
        "      if auteur in pseudos:\n",
        "        nb_stop -= 1\n",
        "        URLs = tmp[1].split()\n",
        "        for url in URLs:\n",
        "          !wget -P {path_name} {url}\n",
        "          nb_fanarts_downloaded += 1\n",
        "\n",
        "if nb_fanarts_downloaded > 1:\n",
        "  print(str(nb_fanarts_downloaded) + \" fanarts ont été téléchargés !\")\n",
        "else:\n",
        "  print(str(nb_fanarts_downloaded) + \" fanart a été téléchargé !\")"
      ],
      "metadata": {
        "id": "aLV6vYcHH9RC"
      },
      "execution_count": null,
      "outputs": []
    }
  ]
}