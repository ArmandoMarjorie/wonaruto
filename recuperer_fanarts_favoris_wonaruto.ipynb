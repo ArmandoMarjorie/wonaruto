{
  "nbformat": 4,
  "nbformat_minor": 0,
  "metadata": {
    "colab": {
      "provenance": []
    },
    "kernelspec": {
      "name": "python3",
      "display_name": "Python 3"
    },
    "language_info": {
      "name": "python"
    }
  },
  "cells": [
    {
      "cell_type": "markdown",
      "source": [
        "# Télécharger tous les fanarts favoris d'un compte sur wonaruto\n",
        "\n",
        "Ce programme permet de récupérer les fanarts favoris d'un compte, y compris si l'auteur/trice avait supprimé son fanart.\n",
        "\n",
        "Pour exécuter le code, modifier les cellules où \"/!\\ Cellule modifiable\" apparaît au dessus (pour écrire l'URL de vos favoris, et le nom du dossier où vous voulez télécharger les fanarts). Si le nom du dossier n'existe pas dans votre drive, le dossier sera créé.\n",
        "\n",
        "Ne touchez à rien d'autre :) !\n",
        "\n",
        "Vous pouvez ensuite lancer le programme en cliquant sur l'onglet \"Exécution > Tout exécuter\". Il faudra alors donner l'autorisation d'utiliser drive.\n",
        "\n",
        "Laisser l'onglet ouvert !!\n",
        "\n",
        "============================================================================"
      ],
      "metadata": {
        "id": "Kr3Zq7aeN5kd"
      }
    },
    {
      "cell_type": "markdown",
      "source": [
        "# Cellules à modifier\n",
        "\n",
        "Veuillez modifier toutes les cellules suivantes avec vos infos"
      ],
      "metadata": {
        "id": "G0VhQudIOasu"
      }
    },
    {
      "cell_type": "markdown",
      "source": [
        "/!\\ Cellule modifiable\n",
        "\n",
        "Mettre le lien de votre galerie wonaruto ici, entre les guillemets."
      ],
      "metadata": {
        "id": "tls6bM2dOh0d"
      }
    },
    {
      "cell_type": "code",
      "execution_count": null,
      "metadata": {
        "id": "--78Ca5iNmnF"
      },
      "outputs": [],
      "source": [
        "URL_favs = \"http://www.wonaruto.com/fanarts/favoris/270905/Rukia-Jericho/\""
      ]
    },
    {
      "cell_type": "markdown",
      "source": [
        "/!\\ Cellule modifiable\n",
        "\n",
        "On va nommer ici notre dossier où l'on veut que tous nos fanarts se trouvent. Le dossier n'a pas besoin d'être créé en amont."
      ],
      "metadata": {
        "id": "K9dBF43bOij0"
      }
    },
    {
      "cell_type": "code",
      "source": [
        "folder_name = \"favoris_wonaruto\""
      ],
      "metadata": {
        "id": "XC8nVtKCOjBJ"
      },
      "execution_count": null,
      "outputs": []
    },
    {
      "cell_type": "markdown",
      "source": [
        "# Code\n",
        "Ne touchez à rien d'autre à partir d'ici :) ! Vous pouvez maintenant exécuter le programme en cliquant sur \"Exécution > Tout exécuter\"\n",
        "\n",
        "============================================================================"
      ],
      "metadata": {
        "id": "p8IN0FQiO0hF"
      }
    },
    {
      "cell_type": "markdown",
      "source": [
        "Installation des frameworks nécessaires pour la suite"
      ],
      "metadata": {
        "id": "kKPEM9L6O-g8"
      }
    },
    {
      "cell_type": "code",
      "source": [
        "!pip install bs4\n",
        "!pip install requests"
      ],
      "metadata": {
        "id": "H1KmN6_WO_Og"
      },
      "execution_count": null,
      "outputs": []
    },
    {
      "cell_type": "markdown",
      "source": [
        "Import des frameworks nécessaires pour pouvoir les utiliser"
      ],
      "metadata": {
        "id": "2SwwR4dPPB26"
      }
    },
    {
      "cell_type": "code",
      "source": [
        "from bs4 import BeautifulSoup\n",
        "import requests\n",
        "from google.colab import drive"
      ],
      "metadata": {
        "id": "T0HbYotpPCWQ"
      },
      "execution_count": null,
      "outputs": []
    },
    {
      "cell_type": "markdown",
      "source": [
        "On va créer le dossier dans drive. Il faut pour cela donner l'autorisation d'utiliser drive lorsqu'on execute la cellule suivante."
      ],
      "metadata": {
        "id": "NzEoP7I4PQla"
      }
    },
    {
      "cell_type": "code",
      "source": [
        "drive.mount('/content/drive/')\n",
        "path_name = \"drive/MyDrive/\" + folder_name + \"/\"\n",
        "!mkdir {path_name}"
      ],
      "metadata": {
        "id": "POb1LXvpPRh9"
      },
      "execution_count": null,
      "outputs": []
    },
    {
      "cell_type": "markdown",
      "source": [
        "Création des variables..."
      ],
      "metadata": {
        "id": "bVz_-W8tPUXt"
      }
    },
    {
      "cell_type": "code",
      "source": [
        "fanarts_links = []\n",
        "max_page = 1\n",
        "headers = {\n",
        "    'Access-Control-Allow-Origin': '*',\n",
        "    'Access-Control-Allow-Methods': 'GET',\n",
        "    'Access-Control-Allow-Headers': 'Content-Type',\n",
        "    'Access-Control-Max-Age': '3600',\n",
        "    'User-Agent': 'Mozilla/5.0 (X11; Ubuntu; Linux x86_64; rv:52.0) Gecko/20100101 Firefox/52.0'\n",
        "    }"
      ],
      "metadata": {
        "id": "UhOPuU5FPXdi"
      },
      "execution_count": null,
      "outputs": []
    },
    {
      "cell_type": "markdown",
      "source": [
        "Récupère le nombre de pages de favoris"
      ],
      "metadata": {
        "id": "jyp2XlluPaV8"
      }
    },
    {
      "cell_type": "code",
      "source": [
        "req = requests.get(URL_favs, headers)\n",
        "soup = BeautifulSoup(req.content, 'html.parser')\n",
        "nb_pages_div = soup.find(\"div\", {\"id\": \"pages_comment\"}).find_all(\"a\")\n",
        "\n",
        "if len(nb_pages_div) >= 2:\n",
        "  max_page = int(nb_pages_div[-2].get_text())\n",
        "\n",
        "print(\"Il y a \" + str(max_page) + \" pages de favoris\")"
      ],
      "metadata": {
        "id": "_u4UaiA7PqXy"
      },
      "execution_count": null,
      "outputs": []
    },
    {
      "cell_type": "markdown",
      "source": [
        "Récupère tous les liens des favoris"
      ],
      "metadata": {
        "id": "yyz58b0PP6BH"
      }
    },
    {
      "cell_type": "code",
      "source": [
        "for num_page in range(1,max_page):\n",
        "  URL_fav_courant = URL_favs + str(num_page) + \"/\"\n",
        "\n",
        "  req = requests.get(URL_fav_courant, headers)\n",
        "  soup = BeautifulSoup(req.content, 'html.parser')\n",
        "\n",
        "  all_arts = soup.find_all(\"div\", {\"class\": \"image_galerie\"})\n",
        "\n",
        "  for i in range(len(all_arts)):\n",
        "    fanart_link = all_arts[i].find('a')\n",
        "    if fanart_link != None:\n",
        "      fanart_link = fanart_link['href']\n",
        "      if len(fanart_link) >= 4 and fanart_link[:4] != \"http\":\n",
        "        fanart_link = \"http://www.wonaruto.com/\" + fanart_link\n",
        "      fanarts_links.append(fanart_link)\n",
        "\n",
        "\n",
        "print(\"Il y a \" + str(len(fanarts_links))+ \" fanarts favoris\")"
      ],
      "metadata": {
        "id": "QPaRaGpnP791"
      },
      "execution_count": null,
      "outputs": []
    },
    {
      "cell_type": "markdown",
      "source": [
        "Télécharge tous les fanarts favoris"
      ],
      "metadata": {
        "id": "dJziX2L9REoS"
      }
    },
    {
      "cell_type": "code",
      "source": [
        "num_fanart = 0\n",
        "for URL in fanarts_links:\n",
        "  num_fanart += 1\n",
        "  print(\"processing le fanart \"+ str(num_fanart) + \" des favoris...\")\n",
        "\n",
        "  req = requests.get(URL, headers)\n",
        "  soup = BeautifulSoup(req.content, 'html.parser')\n",
        "\n",
        "  table = soup.find_all('table')\n",
        "  if len(table) >= 1:\n",
        "    img = table[0].find('img')\n",
        "    if img != None:\n",
        "      fanart = img['src']\n",
        "\n",
        "      if len(fanart) >= 4 and fanart[:4] != \"http\":\n",
        "        fanart = \"http://www.wonaruto.com/\" + img['src']\n",
        "\n",
        "      !wget -P {path_name} {fanart}"
      ],
      "metadata": {
        "id": "tHAAdl8GRGhO"
      },
      "execution_count": null,
      "outputs": []
    }
  ]
}